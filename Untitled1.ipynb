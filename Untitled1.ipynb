{
 "cells": [
  {
   "cell_type": "code",
   "execution_count": null,
   "metadata": {},
   "outputs": [],
   "source": []
  },
  {
   "cell_type": "code",
   "execution_count": 4,
   "metadata": {},
   "outputs": [
    {
     "name": "stdout",
     "output_type": "stream",
     "text": [
      "Irish regulator opens third privacy probe into #Apple https://t.co/SKaxOlvP9D $SLV $GLD $QQQ $DJIA $DIA $SPY… https://t.co/ML6nusfcfi\n",
      "Sentiment(polarity=0.0, subjectivity=0.0)\n",
      "How to Use A Top Down Stock Trading Strategy to Maximize Your Profits $STUDY $AAPL $NFLX $AMZN $FB $GOOGL https://t.co/YAIk8ueMxr\n",
      "Sentiment(polarity=0.17222222222222222, subjectivity=0.3944444444444445)\n",
      "$CGC Cannabis stocks hit by holiday slump but Aleafia shines after getting Australia export license… https://t.co/lMdeJjqdQr\n",
      "Sentiment(polarity=0.0, subjectivity=0.0)\n",
      "$AAPL #patent 10,340,969 Magnetic related features of a cover for an electronic device #tech #IP #research… https://t.co/xIcdTNut8E\n",
      "Sentiment(polarity=0.0, subjectivity=0.4)\n",
      "SERVICES, SERVICES, SERVICES at $AAPL are at all-time high @tim_cook @HalftimeReport @ScottWapnerCNBC https://t.co/k0zrfjhNhV\n",
      "Sentiment(polarity=0.16, subjectivity=0.5399999999999999)\n",
      "The fact that Jony Ive devoted so much of his time to the new $AAPL HQ was a huge warning sign. It is a monument to… https://t.co/Se5FTO7A9t\n",
      "Sentiment(polarity=0.24545454545454548, subjectivity=0.5181818181818182)\n",
      "RT @theflynews: Uber initiation, commentary on Boeing, Apple among today's top analyst calls $UBER $LYFT $BA $SPR $AAPL $CARS $ROKU $JWN ht…\n",
      "Sentiment(polarity=0.5, subjectivity=0.5)\n",
      "“Hello, yes, buy back the $AAPL stock I sold at $170\" https://t.co/yET9lt1t7d\n",
      "Sentiment(polarity=0.0, subjectivity=0.0)\n",
      "Probably done with this $AAPL today unless the short move shows up later. https://t.co/XDbxafcQxH\n",
      "Sentiment(polarity=0.0, subjectivity=0.15)\n",
      "251 Profit-Packed Option Trades Yearly--Delivered to Your Inbox Daily--FREE! https://t.co/V3Fhbxxrzi   $AAPL $MSFT $NVDA $AMD\n",
      "Sentiment(polarity=0.0, subjectivity=0.0)\n"
     ]
    }
   ],
   "source": [
    "import tweepy\n",
    "from textblob import TextBlob\n",
    "apikey=\"dIji1wwVkHF9iTXdDHZgrALE4\"\n",
    "sec_api=\"AKJcFD20lN3ItBucz5zX1T3WfyiNiuSwKPpKHG03hCVT1Jtb2H\"\n",
    "tokenid=\"1101061258650955776-io4zrOv75zAMTgk0XUmx2M6WWtk0Hx\"\n",
    "sec_token=\"kAxshHm24s5hal83x8J6C8feM0w2fwPDBNqqbZKWpabTQ\"\n",
    "auth=tweepy.OAuthHandler(apikey,sec_api)\n",
    "auth.set_access_token(tokenid,sec_token)\n",
    "api=tweepy.API(auth,wait_on_rate_limit=True )\n",
    "tweets=tweepy.Cursor(api.search,q='$AAPL',lang='en',since='2019-06-10').items(10)\n",
    "for tweet in tweets:\n",
    "    ana=TextBlob(tweet.text)\n",
    "    t=tweet.text\n",
    "    print(t)\n",
    "    print(ana.sentiment)\n",
    "\n"
   ]
  }
 ],
 "metadata": {
  "kernelspec": {
   "display_name": "Python 3",
   "language": "python",
   "name": "python3"
  },
  "language_info": {
   "codemirror_mode": {
    "name": "ipython",
    "version": 3
   },
   "file_extension": ".py",
   "mimetype": "text/x-python",
   "name": "python",
   "nbconvert_exporter": "python",
   "pygments_lexer": "ipython3",
   "version": "3.7.1"
  }
 },
 "nbformat": 4,
 "nbformat_minor": 2
}
